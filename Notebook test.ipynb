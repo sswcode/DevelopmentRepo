{
 "cells": [
  {
   "cell_type": "code",
   "execution_count": 12,
   "metadata": {},
   "outputs": [
    {
     "name": "stdout",
     "output_type": "stream",
     "text": [
      "current directory\n",
      "\\\\kbh-s04\\fsociety\\Projects\\REVIT\\3XN Scripting API\\Scripting\n",
      "6\n",
      "   0    1  2\n",
      "0  0  132  3\n",
      "1  0   12  3\n"
     ]
    }
   ],
   "source": [
    "import os\n",
    "print (\"current directory\")\n",
    "print (os.getcwd())\n",
    "print (2*3)\n",
    "\n",
    "import pandas as pd\n",
    "import numpy as numpy\n",
    "frame = pd.DataFrame([[0,132,3],[0,12,3]] )\n",
    "print (frame)"
   ]
  },
  {
   "cell_type": "code",
   "execution_count": 13,
   "metadata": {},
   "outputs": [
    {
     "name": "stdout",
     "output_type": "stream",
     "text": [
      "here\n"
     ]
    }
   ],
   "source": [
    "print (\"here\")"
   ]
  },
  {
   "cell_type": "code",
   "execution_count": null,
   "metadata": {},
   "outputs": [],
   "source": []
  },
  {
   "cell_type": "code",
   "execution_count": null,
   "metadata": {},
   "outputs": [],
   "source": []
  }
 ],
 "metadata": {
  "kernelspec": {
   "display_name": "base",
   "language": "python",
   "name": "python3"
  },
  "language_info": {
   "codemirror_mode": {
    "name": "ipython",
    "version": 3
   },
   "file_extension": ".py",
   "mimetype": "text/x-python",
   "name": "python",
   "nbconvert_exporter": "python",
   "pygments_lexer": "ipython3",
   "version": "3.9.12"
  },
  "orig_nbformat": 4,
  "vscode": {
   "interpreter": {
    "hash": "f5a6cfc88a5836ff67d408c9fb4939b0194cf02e0641a5767684114bb6f15a50"
   }
  }
 },
 "nbformat": 4,
 "nbformat_minor": 2
}
