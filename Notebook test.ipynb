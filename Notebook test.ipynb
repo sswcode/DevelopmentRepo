{
 "cells": [
  {
   "cell_type": "code",
   "execution_count": null,
   "metadata": {},
   "outputs": [],
   "source": []
  }
 ],
 "metadata": {
  "kernelspec": {
   "display_name": "base",
   "language": "python",
   "name": "python3"
  },
  "language_info": {
   "name": "python",
   "version": "3.9.12 (main, Apr  4 2022, 05:22:27) [MSC v.1916 64 bit (AMD64)]"
  },
  "orig_nbformat": 4,
  "vscode": {
   "interpreter": {
    "hash": "f5a6cfc88a5836ff67d408c9fb4939b0194cf02e0641a5767684114bb6f15a50"
   }
  }
 },
 "nbformat": 4,
 "nbformat_minor": 2
}
